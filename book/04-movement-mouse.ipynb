{
 "cells": [
  {
   "cell_type": "markdown",
   "metadata": {},
   "source": [
    "# A mouse's daily activity log {#sec-movement-mouse}\n",
    "\n",
    "Before we start, make sure you have the `movement` package installed, see prerequisites [@sec-software-tools].\n",
    "\n",
    "[📥 Download this notebook](./04-movement-mouse.ipynb)\n",
    "\n",
    "Let's download some sample data from the `movement` package."
   ]
  },
  {
   "cell_type": "code",
   "execution_count": 1,
   "metadata": {},
   "outputs": [
    {
     "name": "stderr",
     "output_type": "stream",
     "text": [
      "Downloading data from 'https://gin.g-node.org/neuroinformatics/movement-test-data/raw/master/metadata.yaml' to file '/Users/nsirmpilatze/.movement/data/temp_metadata.yaml'.\n"
     ]
    },
    {
     "name": "stderr",
     "output_type": "stream",
     "text": [
      "SHA256 hash of downloaded file: cf2876bab4f754d48d3c9f113ce5ac91787304cc587d33d8bf1124d5358e957f\n",
      "Use this value as the 'known_hash' argument of 'pooch.retrieve' to ensure that the file hasn't changed if it is downloaded again in the future.\n"
     ]
    }
   ],
   "source": [
    "from movement import sample_data"
   ]
  },
  {
   "cell_type": "markdown",
   "metadata": {},
   "source": [
    "We will use the following 3 files:\n",
    "\n",
    "- DLC_smart-kage3_datetime-20240417T090006.predictions.h5\n",
    "- DLC_smart-kage3_datetime-20240417T100006.predictions.h5\n",
    "- DLC_smart-kage3_datetime-20240417T110006.predictions.h5\n",
    "\n",
    "Each file corresponds to a 1-hour segment of a video recording of a mouse in its home cage.\n",
    "The start date and time of each file is indicated in the filename, in the format `YYYYMMDDTHHMMSS`."
   ]
  },
  {
   "cell_type": "code",
   "execution_count": 2,
   "metadata": {},
   "outputs": [],
   "source": [
    "filemame_list = [\n",
    "    \"DLC_smart-kage3_datetime-20240417T090006.predictions.h5\",\n",
    "    \"DLC_smart-kage3_datetime-20240417T100006.predictions.h5\",\n",
    "    \"DLC_smart-kage3_datetime-20240417T110006.predictions.h5\",\n",
    "]\n",
    "\n",
    "ds_list = []  # list of loaded datasets\n",
    "for filename in filemame_list:\n",
    "    ds = sample_data.fetch_dataset(filename, with_video=True)\n",
    "    ds_list.append(ds)"
   ]
  },
  {
   "cell_type": "code",
   "execution_count": 3,
   "metadata": {},
   "outputs": [],
   "source": []
  }
 ],
 "metadata": {
  "kernelspec": {
   "display_name": "animals-in-motion",
   "language": "python",
   "name": "python3"
  },
  "language_info": {
   "codemirror_mode": {
    "name": "ipython",
    "version": 3
   },
   "file_extension": ".py",
   "mimetype": "text/x-python",
   "name": "python",
   "nbconvert_exporter": "python",
   "pygments_lexer": "ipython3",
   "version": "3.13.5"
  }
 },
 "nbformat": 4,
 "nbformat_minor": 2
}
